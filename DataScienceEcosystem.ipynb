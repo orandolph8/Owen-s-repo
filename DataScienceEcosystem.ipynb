{
 "cells": [
  {
   "cell_type": "markdown",
   "id": "4d3862fb-3fca-4514-be45-6bfdb58d1d5d",
   "metadata": {},
   "source": [
    "# Data Science Tools And Ecosystem"
   ]
  },
  {
   "cell_type": "markdown",
   "id": "d77e123b-1724-4122-befd-0b4cb05959dc",
   "metadata": {},
   "source": [
    "In this notebook, Data Science Tools and Ecosystem are summarized."
   ]
  },
  {
   "cell_type": "markdown",
   "id": "072177ad-0051-47f2-8c50-7049bf7bbd44",
   "metadata": {},
   "source": [
    "Some of the popular language Data Scientists Use are:\n"
   ]
  },
  {
   "cell_type": "markdown",
   "id": "2aefb0b4-d461-468d-97d1-f00f2b189bc0",
   "metadata": {},
   "source": [
    "1. Python\n",
    "2. Scala\n",
    "3. Julia"
   ]
  },
  {
   "cell_type": "markdown",
   "id": "d149a951-eb8a-43f0-86b3-dc9c6b20e649",
   "metadata": {},
   "source": [
    "Some common Libraries Data Scientists Use are:"
   ]
  },
  {
   "cell_type": "markdown",
   "id": "baca28d5-9a3c-4178-9d2e-56674c8b9528",
   "metadata": {},
   "source": [
    "1. matplotlib\n",
    "2. Pandas\n",
    "3. ggplot2"
   ]
  },
  {
   "cell_type": "markdown",
   "id": "465a1057-f047-4e35-ab2a-5be79a818bf6",
   "metadata": {},
   "source": [
    "| Data Science Tools |\n",
    ":----:\n",
    "Jupyter Notebooks\n",
    "R Studio\n",
    "3. ggplot2"
   ]
  },
  {
   "cell_type": "code",
   "execution_count": null,
   "id": "49ab26b2-e99a-4c59-9ea3-037ae388bc3e",
   "metadata": {},
   "outputs": [],
   "source": []
  },
  {
   "cell_type": "markdown",
   "id": "ba51c93f-8910-48d7-85ed-cfe91c424f68",
   "metadata": {},
   "source": [
    "###   Below are a few examples of evaluating arithmetic expressions in Python"
   ]
  },
  {
   "cell_type": "markdown",
   "id": "422490aa-1eb0-45c1-ae83-709fa717ede1",
   "metadata": {},
   "source": [
    "This a simple arithmetic expression to multiply then add integers"
   ]
  },
  {
   "cell_type": "code",
   "execution_count": 4,
   "id": "143f07e7-3967-41ba-bef4-459484fbfdc8",
   "metadata": {},
   "outputs": [
    {
     "data": {
      "text/plain": [
       "17"
      ]
     },
     "execution_count": 4,
     "metadata": {},
     "output_type": "execute_result"
    }
   ],
   "source": [
    "(3*4)+5"
   ]
  },
  {
   "cell_type": "markdown",
   "id": "7ca9f385-eea7-41ca-bdf5-c9f442f02250",
   "metadata": {},
   "source": [
    "This will convert 200 minutes to hours by diving by 60"
   ]
  },
  {
   "cell_type": "code",
   "execution_count": 7,
   "id": "f7d66d74-7bc2-4379-827b-93adbb3db431",
   "metadata": {},
   "outputs": [
    {
     "data": {
      "text/plain": [
       "3.3333333333333335"
      ]
     },
     "execution_count": 7,
     "metadata": {},
     "output_type": "execute_result"
    }
   ],
   "source": [
    "200/60"
   ]
  },
  {
   "cell_type": "markdown",
   "id": "a6c2ae2a-2e38-475f-a379-e0af0019f419",
   "metadata": {},
   "source": [
    "**Objectives**"
   ]
  },
  {
   "cell_type": "markdown",
   "id": "9c9ac3d3-a360-49c6-ab45-4bae95bd7fc5",
   "metadata": {},
   "source": [
    "* list popular data science languages\n",
    "* list popular data science libraries\n",
    "* list popular data science tools\n",
    "* show two examples of arithmetics expressions"
   ]
  },
  {
   "cell_type": "markdown",
   "id": "6cedb8f8-0115-43b1-ab9b-51517089d805",
   "metadata": {},
   "source": [
    "## Author"
   ]
  },
  {
   "cell_type": "markdown",
   "id": "ed893130-f3d8-4df1-b879-1e19e66c859a",
   "metadata": {},
   "source": [
    "Owen Randolph"
   ]
  },
  {
   "cell_type": "code",
   "execution_count": null,
   "id": "9078d042-4c4a-42a0-ac60-8fa118ba0783",
   "metadata": {},
   "outputs": [],
   "source": []
  }
 ],
 "metadata": {
  "kernelspec": {
   "display_name": "Python",
   "language": "python",
   "name": "conda-env-python-py"
  },
  "language_info": {
   "codemirror_mode": {
    "name": "ipython",
    "version": 3
   },
   "file_extension": ".py",
   "mimetype": "text/x-python",
   "name": "python",
   "nbconvert_exporter": "python",
   "pygments_lexer": "ipython3",
   "version": "3.7.12"
  }
 },
 "nbformat": 4,
 "nbformat_minor": 5
}
